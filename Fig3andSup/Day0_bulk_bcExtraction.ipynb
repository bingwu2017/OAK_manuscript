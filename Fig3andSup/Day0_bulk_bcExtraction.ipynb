{
 "cells": [
  {
   "cell_type": "code",
   "execution_count": 1,
   "metadata": {},
   "outputs": [],
   "source": [
    "import sys\n",
    "import pandas\n",
    "import numpy as np"
   ]
  },
  {
   "cell_type": "code",
   "execution_count": 3,
   "metadata": {},
   "outputs": [],
   "source": [
    "def fastqReader(inFile):\n",
    "    '''Reads in FASTQ files, returns a dict of header:sequence'''\n",
    "    readDict = {}\n",
    "    n=0\n",
    "    for line in open(inFile):\n",
    "        line = line.rstrip()\n",
    "        n=n+1\n",
    "        if not line:\n",
    "            continue\n",
    "        if line.startswith('@'):\n",
    "            readDict[line[1:]] = ''\n",
    "            lastHead = line[1:]\n",
    "        elif (n%4)==2:\n",
    "            readDict[lastHead] += line\n",
    "    return readDict"
   ]
  },
  {
   "cell_type": "code",
   "execution_count": 4,
   "metadata": {},
   "outputs": [],
   "source": [
    "R1=fastqReader(R1_fastq_file) #Miseq run with ~16 million reads\n",
    "\n",
    "df_R1=pandas.DataFrame.from_dict(R1,orient='index')\n",
    "\n",
    "df_R1.columns=['R1']\n",
    "\n",
    "df_R1[['coordinate','rest']]=df_R1.index.to_series().str.split(\" \", expand=True)"
   ]
  },
  {
   "cell_type": "code",
   "execution_count": 5,
   "metadata": {},
   "outputs": [
    {
     "data": {
      "text/html": [
       "<div>\n",
       "<style scoped>\n",
       "    .dataframe tbody tr th:only-of-type {\n",
       "        vertical-align: middle;\n",
       "    }\n",
       "\n",
       "    .dataframe tbody tr th {\n",
       "        vertical-align: top;\n",
       "    }\n",
       "\n",
       "    .dataframe thead th {\n",
       "        text-align: right;\n",
       "    }\n",
       "</style>\n",
       "<table border=\"1\" class=\"dataframe\">\n",
       "  <thead>\n",
       "    <tr style=\"text-align: right;\">\n",
       "      <th></th>\n",
       "      <th>R1</th>\n",
       "      <th>coordinate</th>\n",
       "      <th>rest</th>\n",
       "    </tr>\n",
       "  </thead>\n",
       "  <tbody>\n",
       "    <tr>\n",
       "      <th>M06659:228:000000000-KTJV8:1:1101:17655:1000 1:N:0:NGTTATAA+NGCGCTAG</th>\n",
       "      <td>NCACTTGAACGGGTTAACTATGTGCCGATC</td>\n",
       "      <td>M06659:228:000000000-KTJV8:1:1101:17655:1000</td>\n",
       "      <td>1:N:0:NGTTATAA+NGCGCTAG</td>\n",
       "    </tr>\n",
       "    <tr>\n",
       "      <th>M06659:228:000000000-KTJV8:1:1101:12267:1000 1:N:0:NGTTATAA+NGCGCTAG</th>\n",
       "      <td>NGTTGCACCCTACTACAACTCTAATGCCCA</td>\n",
       "      <td>M06659:228:000000000-KTJV8:1:1101:12267:1000</td>\n",
       "      <td>1:N:0:NGTTATAA+NGCGCTAG</td>\n",
       "    </tr>\n",
       "    <tr>\n",
       "      <th>M06659:228:000000000-KTJV8:1:1101:13092:1000 1:N:0:NACCGCGG+NGCGCTAG</th>\n",
       "      <td>NGTTGAGGATCCCAGACTTGTCCCGGTCTA</td>\n",
       "      <td>M06659:228:000000000-KTJV8:1:1101:13092:1000</td>\n",
       "      <td>1:N:0:NACCGCGG+NGCGCTAG</td>\n",
       "    </tr>\n",
       "    <tr>\n",
       "      <th>M06659:228:000000000-KTJV8:1:1101:19548:1000 1:N:0:NACCGCGG+NATATCGA</th>\n",
       "      <td>NCGCAGAACAGAAACCGTACGATCCCAGAT</td>\n",
       "      <td>M06659:228:000000000-KTJV8:1:1101:19548:1000</td>\n",
       "      <td>1:N:0:NACCGCGG+NATATCGA</td>\n",
       "    </tr>\n",
       "    <tr>\n",
       "      <th>M06659:228:000000000-KTJV8:1:1101:19240:1000 1:N:0:NACCGCGG+NATATCGA</th>\n",
       "      <td>NACTGTTTGCGATTTCAGTGCCCACTATCC</td>\n",
       "      <td>M06659:228:000000000-KTJV8:1:1101:19240:1000</td>\n",
       "      <td>1:N:0:NACCGCGG+NATATCGA</td>\n",
       "    </tr>\n",
       "  </tbody>\n",
       "</table>\n",
       "</div>"
      ],
      "text/plain": [
       "                                                                                R1  \\\n",
       "M06659:228:000000000-KTJV8:1:1101:17655:1000 1:...  NCACTTGAACGGGTTAACTATGTGCCGATC   \n",
       "M06659:228:000000000-KTJV8:1:1101:12267:1000 1:...  NGTTGCACCCTACTACAACTCTAATGCCCA   \n",
       "M06659:228:000000000-KTJV8:1:1101:13092:1000 1:...  NGTTGAGGATCCCAGACTTGTCCCGGTCTA   \n",
       "M06659:228:000000000-KTJV8:1:1101:19548:1000 1:...  NCGCAGAACAGAAACCGTACGATCCCAGAT   \n",
       "M06659:228:000000000-KTJV8:1:1101:19240:1000 1:...  NACTGTTTGCGATTTCAGTGCCCACTATCC   \n",
       "\n",
       "                                                                                      coordinate  \\\n",
       "M06659:228:000000000-KTJV8:1:1101:17655:1000 1:...  M06659:228:000000000-KTJV8:1:1101:17655:1000   \n",
       "M06659:228:000000000-KTJV8:1:1101:12267:1000 1:...  M06659:228:000000000-KTJV8:1:1101:12267:1000   \n",
       "M06659:228:000000000-KTJV8:1:1101:13092:1000 1:...  M06659:228:000000000-KTJV8:1:1101:13092:1000   \n",
       "M06659:228:000000000-KTJV8:1:1101:19548:1000 1:...  M06659:228:000000000-KTJV8:1:1101:19548:1000   \n",
       "M06659:228:000000000-KTJV8:1:1101:19240:1000 1:...  M06659:228:000000000-KTJV8:1:1101:19240:1000   \n",
       "\n",
       "                                                                       rest  \n",
       "M06659:228:000000000-KTJV8:1:1101:17655:1000 1:...  1:N:0:NGTTATAA+NGCGCTAG  \n",
       "M06659:228:000000000-KTJV8:1:1101:12267:1000 1:...  1:N:0:NGTTATAA+NGCGCTAG  \n",
       "M06659:228:000000000-KTJV8:1:1101:13092:1000 1:...  1:N:0:NACCGCGG+NGCGCTAG  \n",
       "M06659:228:000000000-KTJV8:1:1101:19548:1000 1:...  1:N:0:NACCGCGG+NATATCGA  \n",
       "M06659:228:000000000-KTJV8:1:1101:19240:1000 1:...  1:N:0:NACCGCGG+NATATCGA  "
      ]
     },
     "execution_count": 5,
     "metadata": {},
     "output_type": "execute_result"
    }
   ],
   "source": [
    "df_R1[0:5] "
   ]
  },
  {
   "cell_type": "code",
   "execution_count": 6,
   "metadata": {},
   "outputs": [],
   "source": [
    "R2=fastqReader(R2_fastq_file)\n",
    "\n",
    "df_R2=pandas.DataFrame.from_dict(R2,orient='index')\n",
    "\n",
    "df_R2.columns=['R2']"
   ]
  },
  {
   "cell_type": "code",
   "execution_count": 7,
   "metadata": {},
   "outputs": [
    {
     "data": {
      "text/plain": [
       "16649224"
      ]
     },
     "execution_count": 7,
     "metadata": {},
     "output_type": "execute_result"
    }
   ],
   "source": [
    "len(df_R2) #this is the number of reads"
   ]
  },
  {
   "cell_type": "code",
   "execution_count": 8,
   "metadata": {},
   "outputs": [
    {
     "data": {
      "text/plain": [
       "15884550"
      ]
     },
     "execution_count": 8,
     "metadata": {},
     "output_type": "execute_result"
    }
   ],
   "source": [
    "sum(df_R2['R2']=='GATAACCCTCGGGAT') #This is a constant region expected. \n",
    "#15884550/16649224 =95.4% of R2 are as expected. Real % might be even slightly higher, because I am only counting exact matches."
   ]
  },
  {
   "cell_type": "code",
   "execution_count": 9,
   "metadata": {},
   "outputs": [
    {
     "name": "stderr",
     "output_type": "stream",
     "text": [
      "/local/50739577/ipykernel_32723/2307877900.py:3: SettingWithCopyWarning: \n",
      "A value is trying to be set on a copy of a slice from a DataFrame.\n",
      "Try using .loc[row_indexer,col_indexer] = value instead\n",
      "\n",
      "See the caveats in the documentation: https://pandas.pydata.org/pandas-docs/stable/user_guide/indexing.html#returning-a-view-versus-a-copy\n",
      "  df_R2_filtered[['coordinate','rest']]=df_R2_filtered.index.to_series().str.split(\" \", expand=True)\n",
      "/local/50739577/ipykernel_32723/2307877900.py:3: SettingWithCopyWarning: \n",
      "A value is trying to be set on a copy of a slice from a DataFrame.\n",
      "Try using .loc[row_indexer,col_indexer] = value instead\n",
      "\n",
      "See the caveats in the documentation: https://pandas.pydata.org/pandas-docs/stable/user_guide/indexing.html#returning-a-view-versus-a-copy\n",
      "  df_R2_filtered[['coordinate','rest']]=df_R2_filtered.index.to_series().str.split(\" \", expand=True)\n"
     ]
    }
   ],
   "source": [
    "df_R2_filtered=df_R2[df_R2['R2']=='GATAACCCTCGGGAT']\n",
    "\n",
    "df_R2_filtered[['coordinate','rest']]=df_R2_filtered.index.to_series().str.split(\" \", expand=True)"
   ]
  },
  {
   "cell_type": "code",
   "execution_count": 10,
   "metadata": {},
   "outputs": [],
   "source": [
    "df_merge=pandas.merge(df_R2_filtered, df_R1, on='coordinate')\n",
    "#Only keep those R1 reads whose R2 is with the expected sequence. by default this is an inner join"
   ]
  },
  {
   "cell_type": "code",
   "execution_count": 11,
   "metadata": {},
   "outputs": [],
   "source": [
    "df_merge.set_index('R1', inplace=True)\n",
    "#This is supposed to speed up merging later with the whitelist"
   ]
  },
  {
   "cell_type": "code",
   "execution_count": 13,
   "metadata": {},
   "outputs": [
    {
     "name": "stderr",
     "output_type": "stream",
     "text": [
      "/local/50739577/ipykernel_32723/2582482099.py:2: DtypeWarning: Columns (0,2,3,4) have mixed types. Specify dtype option on import or set low_memory=False.\n",
      "  libC_anno_df=pandas.read_csv(libC_construct_sequence)\n"
     ]
    }
   ],
   "source": [
    "#We need revcomp to use reference by Cellranger, so the annotated libC file is more useful:\n",
    "libC_anno_df=pandas.read_csv(libC_construct_sequence)"
   ]
  },
  {
   "cell_type": "code",
   "execution_count": 14,
   "metadata": {},
   "outputs": [],
   "source": [
    "libC_anno_df.columns=['LineageName','SubLibrary','42ntBC','42ntBCrevcomp','LibInsertSequence']"
   ]
  },
  {
   "cell_type": "code",
   "execution_count": 15,
   "metadata": {},
   "outputs": [
    {
     "data": {
      "text/html": [
       "<div>\n",
       "<style scoped>\n",
       "    .dataframe tbody tr th:only-of-type {\n",
       "        vertical-align: middle;\n",
       "    }\n",
       "\n",
       "    .dataframe tbody tr th {\n",
       "        vertical-align: top;\n",
       "    }\n",
       "\n",
       "    .dataframe thead th {\n",
       "        text-align: right;\n",
       "    }\n",
       "</style>\n",
       "<table border=\"1\" class=\"dataframe\">\n",
       "  <thead>\n",
       "    <tr style=\"text-align: right;\">\n",
       "      <th></th>\n",
       "      <th>LineageName</th>\n",
       "      <th>SubLibrary</th>\n",
       "      <th>42ntBC</th>\n",
       "      <th>42ntBCrevcomp</th>\n",
       "      <th>LibInsertSequence</th>\n",
       "    </tr>\n",
       "  </thead>\n",
       "  <tbody>\n",
       "    <tr>\n",
       "      <th>0</th>\n",
       "      <td>GENBC0200001</td>\n",
       "      <td>3.0</td>\n",
       "      <td>CACTTGTTTGGTCAGGGATAACATAGGGAGTTGACGAGAAGA</td>\n",
       "      <td>TCTTCTCGTCAACTCCCTATGTTATCCCTGACCAAACAAGTG</td>\n",
       "      <td>ACCGAACGCAACGCACGCACACTTGTTTGGTCAGGGATAACATAGG...</td>\n",
       "    </tr>\n",
       "    <tr>\n",
       "      <th>1</th>\n",
       "      <td>GENBC0200002</td>\n",
       "      <td>3.0</td>\n",
       "      <td>CACTTGTTTGGTGACGCCTTCCCGAATCACTCCCTAATATCT</td>\n",
       "      <td>AGATATTAGGGAGTGATTCGGGAAGGCGTCACCAAACAAGTG</td>\n",
       "      <td>ACCGAACGCAACGCACGCACACTTGTTTGGTGACGCCTTCCCGAAT...</td>\n",
       "    </tr>\n",
       "    <tr>\n",
       "      <th>2</th>\n",
       "      <td>GENBC0200003</td>\n",
       "      <td>3.0</td>\n",
       "      <td>CACTTGTTTGGTGCGTTTCAGATCTTCCTACCTCCTTCATAC</td>\n",
       "      <td>GTATGAAGGAGGTAGGAAGATCTGAAACGCACCAAACAAGTG</td>\n",
       "      <td>ACCGAACGCAACGCACGCACACTTGTTTGGTGCGTTTCAGATCTTC...</td>\n",
       "    </tr>\n",
       "    <tr>\n",
       "      <th>3</th>\n",
       "      <td>GENBC0200004</td>\n",
       "      <td>3.0</td>\n",
       "      <td>CACTTGTTTGGTACCAACAGGACCTTGAAACCAACCTAATCG</td>\n",
       "      <td>CGATTAGGTTGGTTTCAAGGTCCTGTTGGTACCAAACAAGTG</td>\n",
       "      <td>ACCGAACGCAACGCACGCACACTTGTTTGGTACCAACAGGACCTTG...</td>\n",
       "    </tr>\n",
       "    <tr>\n",
       "      <th>4</th>\n",
       "      <td>GENBC0200005</td>\n",
       "      <td>3.0</td>\n",
       "      <td>CACTTGTTTGGTACCGAATCTACGTCTCAATGTCACCCTTGA</td>\n",
       "      <td>TCAAGGGTGACATTGAGACGTAGATTCGGTACCAAACAAGTG</td>\n",
       "      <td>ACCGAACGCAACGCACGCACACTTGTTTGGTACCGAATCTACGTCT...</td>\n",
       "    </tr>\n",
       "  </tbody>\n",
       "</table>\n",
       "</div>"
      ],
      "text/plain": [
       "    LineageName  SubLibrary                                      42ntBC  \\\n",
       "0  GENBC0200001         3.0  CACTTGTTTGGTCAGGGATAACATAGGGAGTTGACGAGAAGA   \n",
       "1  GENBC0200002         3.0  CACTTGTTTGGTGACGCCTTCCCGAATCACTCCCTAATATCT   \n",
       "2  GENBC0200003         3.0  CACTTGTTTGGTGCGTTTCAGATCTTCCTACCTCCTTCATAC   \n",
       "3  GENBC0200004         3.0  CACTTGTTTGGTACCAACAGGACCTTGAAACCAACCTAATCG   \n",
       "4  GENBC0200005         3.0  CACTTGTTTGGTACCGAATCTACGTCTCAATGTCACCCTTGA   \n",
       "\n",
       "                                42ntBCrevcomp  \\\n",
       "0  TCTTCTCGTCAACTCCCTATGTTATCCCTGACCAAACAAGTG   \n",
       "1  AGATATTAGGGAGTGATTCGGGAAGGCGTCACCAAACAAGTG   \n",
       "2  GTATGAAGGAGGTAGGAAGATCTGAAACGCACCAAACAAGTG   \n",
       "3  CGATTAGGTTGGTTTCAAGGTCCTGTTGGTACCAAACAAGTG   \n",
       "4  TCAAGGGTGACATTGAGACGTAGATTCGGTACCAAACAAGTG   \n",
       "\n",
       "                                   LibInsertSequence  \n",
       "0  ACCGAACGCAACGCACGCACACTTGTTTGGTCAGGGATAACATAGG...  \n",
       "1  ACCGAACGCAACGCACGCACACTTGTTTGGTGACGCCTTCCCGAAT...  \n",
       "2  ACCGAACGCAACGCACGCACACTTGTTTGGTGCGTTTCAGATCTTC...  \n",
       "3  ACCGAACGCAACGCACGCACACTTGTTTGGTACCAACAGGACCTTG...  \n",
       "4  ACCGAACGCAACGCACGCACACTTGTTTGGTACCGAATCTACGTCT...  "
      ]
     },
     "execution_count": 15,
     "metadata": {},
     "output_type": "execute_result"
    }
   ],
   "source": [
    "libC_anno_df[0:5]"
   ]
  },
  {
   "cell_type": "code",
   "execution_count": 16,
   "metadata": {},
   "outputs": [],
   "source": [
    "libC_anno_df['sc_R2_30nt']=libC_anno_df['42ntBCrevcomp'].str[0:30]"
   ]
  },
  {
   "cell_type": "code",
   "execution_count": 17,
   "metadata": {},
   "outputs": [],
   "source": [
    "libC_anno_df['bulk_R1_30nt']=libC_anno_df['42ntBC'].str[12:42]"
   ]
  },
  {
   "cell_type": "code",
   "execution_count": 18,
   "metadata": {},
   "outputs": [],
   "source": [
    "libC_anno_df.set_index('bulk_R1_30nt', inplace=True)\n",
    "#This is supposed to speed up merging"
   ]
  },
  {
   "cell_type": "code",
   "execution_count": 19,
   "metadata": {},
   "outputs": [],
   "source": [
    "df_merge_valid=df_merge.merge(libC_anno_df, how='inner',left_index=True,right_index=True)\n",
    "#This is now relatively fast"
   ]
  },
  {
   "cell_type": "code",
   "execution_count": 20,
   "metadata": {},
   "outputs": [],
   "source": [
    "df_merge_valid.index.name=\"bulk_R1_30nt\"\n",
    "df_merge_valid.reset_index(inplace=True)"
   ]
  },
  {
   "cell_type": "code",
   "execution_count": 21,
   "metadata": {},
   "outputs": [],
   "source": [
    "df_valid_count=df_merge_valid.groupby('bulk_R1_30nt').count().sort_values('coordinate', ascending=False)"
   ]
  },
  {
   "cell_type": "code",
   "execution_count": 23,
   "metadata": {},
   "outputs": [],
   "source": [
    "df_valid_count['rank']=range(len(df_valid_count))"
   ]
  },
  {
   "cell_type": "code",
   "execution_count": 24,
   "metadata": {},
   "outputs": [
    {
     "data": {
      "text/html": [
       "<div>\n",
       "<style scoped>\n",
       "    .dataframe tbody tr th:only-of-type {\n",
       "        vertical-align: middle;\n",
       "    }\n",
       "\n",
       "    .dataframe tbody tr th {\n",
       "        vertical-align: top;\n",
       "    }\n",
       "\n",
       "    .dataframe thead th {\n",
       "        text-align: right;\n",
       "    }\n",
       "</style>\n",
       "<table border=\"1\" class=\"dataframe\">\n",
       "  <thead>\n",
       "    <tr style=\"text-align: right;\">\n",
       "      <th></th>\n",
       "      <th>R2</th>\n",
       "      <th>coordinate</th>\n",
       "      <th>rest_x</th>\n",
       "      <th>rest_y</th>\n",
       "      <th>LineageName</th>\n",
       "      <th>SubLibrary</th>\n",
       "      <th>42ntBC</th>\n",
       "      <th>42ntBCrevcomp</th>\n",
       "      <th>LibInsertSequence</th>\n",
       "      <th>sc_R2_30nt</th>\n",
       "      <th>rank</th>\n",
       "    </tr>\n",
       "    <tr>\n",
       "      <th>bulk_R1_30nt</th>\n",
       "      <th></th>\n",
       "      <th></th>\n",
       "      <th></th>\n",
       "      <th></th>\n",
       "      <th></th>\n",
       "      <th></th>\n",
       "      <th></th>\n",
       "      <th></th>\n",
       "      <th></th>\n",
       "      <th></th>\n",
       "      <th></th>\n",
       "    </tr>\n",
       "  </thead>\n",
       "  <tbody>\n",
       "    <tr>\n",
       "      <th>CAATAGTATCCGGGAATTAACACACGCCTG</th>\n",
       "      <td>3236105</td>\n",
       "      <td>3236105</td>\n",
       "      <td>3236105</td>\n",
       "      <td>3236105</td>\n",
       "      <td>3236105</td>\n",
       "      <td>3236105</td>\n",
       "      <td>3236105</td>\n",
       "      <td>3236105</td>\n",
       "      <td>3236105</td>\n",
       "      <td>3236105</td>\n",
       "      <td>0</td>\n",
       "    </tr>\n",
       "    <tr>\n",
       "      <th>TGTTGAGGATCCCAGACTTGTCCCGGTCTA</th>\n",
       "      <td>652037</td>\n",
       "      <td>652037</td>\n",
       "      <td>652037</td>\n",
       "      <td>652037</td>\n",
       "      <td>652037</td>\n",
       "      <td>652037</td>\n",
       "      <td>652037</td>\n",
       "      <td>652037</td>\n",
       "      <td>652037</td>\n",
       "      <td>652037</td>\n",
       "      <td>1</td>\n",
       "    </tr>\n",
       "    <tr>\n",
       "      <th>TTCCGGATCAAAGTACTGCGGTATCATAGG</th>\n",
       "      <td>473660</td>\n",
       "      <td>473660</td>\n",
       "      <td>473660</td>\n",
       "      <td>473660</td>\n",
       "      <td>473660</td>\n",
       "      <td>473660</td>\n",
       "      <td>473660</td>\n",
       "      <td>473660</td>\n",
       "      <td>473660</td>\n",
       "      <td>473660</td>\n",
       "      <td>2</td>\n",
       "    </tr>\n",
       "    <tr>\n",
       "      <th>GACTGTTTGCGATTTCAGTGCCCACTATCC</th>\n",
       "      <td>437350</td>\n",
       "      <td>437350</td>\n",
       "      <td>437350</td>\n",
       "      <td>437350</td>\n",
       "      <td>437350</td>\n",
       "      <td>437350</td>\n",
       "      <td>437350</td>\n",
       "      <td>437350</td>\n",
       "      <td>437350</td>\n",
       "      <td>437350</td>\n",
       "      <td>3</td>\n",
       "    </tr>\n",
       "    <tr>\n",
       "      <th>TGTTGCACCCTACTACAACTCTAATGCCCA</th>\n",
       "      <td>433253</td>\n",
       "      <td>433253</td>\n",
       "      <td>433253</td>\n",
       "      <td>433253</td>\n",
       "      <td>433253</td>\n",
       "      <td>433253</td>\n",
       "      <td>433253</td>\n",
       "      <td>433253</td>\n",
       "      <td>433253</td>\n",
       "      <td>433253</td>\n",
       "      <td>4</td>\n",
       "    </tr>\n",
       "  </tbody>\n",
       "</table>\n",
       "</div>"
      ],
      "text/plain": [
       "                                     R2  coordinate   rest_x   rest_y  \\\n",
       "bulk_R1_30nt                                                            \n",
       "CAATAGTATCCGGGAATTAACACACGCCTG  3236105     3236105  3236105  3236105   \n",
       "TGTTGAGGATCCCAGACTTGTCCCGGTCTA   652037      652037   652037   652037   \n",
       "TTCCGGATCAAAGTACTGCGGTATCATAGG   473660      473660   473660   473660   \n",
       "GACTGTTTGCGATTTCAGTGCCCACTATCC   437350      437350   437350   437350   \n",
       "TGTTGCACCCTACTACAACTCTAATGCCCA   433253      433253   433253   433253   \n",
       "\n",
       "                                LineageName  SubLibrary   42ntBC  \\\n",
       "bulk_R1_30nt                                                       \n",
       "CAATAGTATCCGGGAATTAACACACGCCTG      3236105     3236105  3236105   \n",
       "TGTTGAGGATCCCAGACTTGTCCCGGTCTA       652037      652037   652037   \n",
       "TTCCGGATCAAAGTACTGCGGTATCATAGG       473660      473660   473660   \n",
       "GACTGTTTGCGATTTCAGTGCCCACTATCC       437350      437350   437350   \n",
       "TGTTGCACCCTACTACAACTCTAATGCCCA       433253      433253   433253   \n",
       "\n",
       "                                42ntBCrevcomp  LibInsertSequence  sc_R2_30nt  \\\n",
       "bulk_R1_30nt                                                                   \n",
       "CAATAGTATCCGGGAATTAACACACGCCTG        3236105            3236105     3236105   \n",
       "TGTTGAGGATCCCAGACTTGTCCCGGTCTA         652037             652037      652037   \n",
       "TTCCGGATCAAAGTACTGCGGTATCATAGG         473660             473660      473660   \n",
       "GACTGTTTGCGATTTCAGTGCCCACTATCC         437350             437350      437350   \n",
       "TGTTGCACCCTACTACAACTCTAATGCCCA         433253             433253      433253   \n",
       "\n",
       "                                rank  \n",
       "bulk_R1_30nt                          \n",
       "CAATAGTATCCGGGAATTAACACACGCCTG     0  \n",
       "TGTTGAGGATCCCAGACTTGTCCCGGTCTA     1  \n",
       "TTCCGGATCAAAGTACTGCGGTATCATAGG     2  \n",
       "GACTGTTTGCGATTTCAGTGCCCACTATCC     3  \n",
       "TGTTGCACCCTACTACAACTCTAATGCCCA     4  "
      ]
     },
     "execution_count": 24,
     "metadata": {},
     "output_type": "execute_result"
    }
   ],
   "source": [
    "df_valid_count[0:5]"
   ]
  },
  {
   "cell_type": "code",
   "execution_count": 25,
   "metadata": {},
   "outputs": [],
   "source": [
    "df_valid_count_cleanup=df_valid_count.reset_index()"
   ]
  },
  {
   "cell_type": "code",
   "execution_count": 26,
   "metadata": {},
   "outputs": [],
   "source": [
    "df_valid_count_cleanup=df_valid_count_cleanup[['bulk_R1_30nt','R2','rank']]"
   ]
  },
  {
   "cell_type": "code",
   "execution_count": 27,
   "metadata": {},
   "outputs": [],
   "source": [
    "df_valid_count_cleanup.columns=['bulk_R1_30nt','ReadCount','rank']"
   ]
  },
  {
   "cell_type": "code",
   "execution_count": 28,
   "metadata": {},
   "outputs": [
    {
     "data": {
      "text/html": [
       "<div>\n",
       "<style scoped>\n",
       "    .dataframe tbody tr th:only-of-type {\n",
       "        vertical-align: middle;\n",
       "    }\n",
       "\n",
       "    .dataframe tbody tr th {\n",
       "        vertical-align: top;\n",
       "    }\n",
       "\n",
       "    .dataframe thead th {\n",
       "        text-align: right;\n",
       "    }\n",
       "</style>\n",
       "<table border=\"1\" class=\"dataframe\">\n",
       "  <thead>\n",
       "    <tr style=\"text-align: right;\">\n",
       "      <th></th>\n",
       "      <th>bulk_R1_30nt</th>\n",
       "      <th>ReadCount</th>\n",
       "      <th>rank</th>\n",
       "    </tr>\n",
       "  </thead>\n",
       "  <tbody>\n",
       "    <tr>\n",
       "      <th>0</th>\n",
       "      <td>CAATAGTATCCGGGAATTAACACACGCCTG</td>\n",
       "      <td>3236105</td>\n",
       "      <td>0</td>\n",
       "    </tr>\n",
       "    <tr>\n",
       "      <th>1</th>\n",
       "      <td>TGTTGAGGATCCCAGACTTGTCCCGGTCTA</td>\n",
       "      <td>652037</td>\n",
       "      <td>1</td>\n",
       "    </tr>\n",
       "    <tr>\n",
       "      <th>2</th>\n",
       "      <td>TTCCGGATCAAAGTACTGCGGTATCATAGG</td>\n",
       "      <td>473660</td>\n",
       "      <td>2</td>\n",
       "    </tr>\n",
       "    <tr>\n",
       "      <th>3</th>\n",
       "      <td>GACTGTTTGCGATTTCAGTGCCCACTATCC</td>\n",
       "      <td>437350</td>\n",
       "      <td>3</td>\n",
       "    </tr>\n",
       "    <tr>\n",
       "      <th>4</th>\n",
       "      <td>TGTTGCACCCTACTACAACTCTAATGCCCA</td>\n",
       "      <td>433253</td>\n",
       "      <td>4</td>\n",
       "    </tr>\n",
       "  </tbody>\n",
       "</table>\n",
       "</div>"
      ],
      "text/plain": [
       "                     bulk_R1_30nt  ReadCount  rank\n",
       "0  CAATAGTATCCGGGAATTAACACACGCCTG    3236105     0\n",
       "1  TGTTGAGGATCCCAGACTTGTCCCGGTCTA     652037     1\n",
       "2  TTCCGGATCAAAGTACTGCGGTATCATAGG     473660     2\n",
       "3  GACTGTTTGCGATTTCAGTGCCCACTATCC     437350     3\n",
       "4  TGTTGCACCCTACTACAACTCTAATGCCCA     433253     4"
      ]
     },
     "execution_count": 28,
     "metadata": {},
     "output_type": "execute_result"
    }
   ],
   "source": [
    "df_valid_count_cleanup[0:5]"
   ]
  },
  {
   "cell_type": "code",
   "execution_count": 40,
   "metadata": {
    "collapsed": true
   },
   "outputs": [],
   "source": [
    "# df_valid_count_cleanup.to_csv('Bulk_validCount.csv',sep=',',header=True)"
   ]
  },
  {
   "cell_type": "code",
   "execution_count": null,
   "metadata": {
    "collapsed": true
   },
   "outputs": [],
   "source": []
  },
  {
   "cell_type": "code",
   "execution_count": 29,
   "metadata": {},
   "outputs": [],
   "source": [
    "IPC298_T0_ref=libC_anno_df[libC_anno_df.index.isin(df_valid_count.index)][['LineageName','sc_R2_30nt']]"
   ]
  },
  {
   "cell_type": "code",
   "execution_count": 30,
   "metadata": {},
   "outputs": [
    {
     "data": {
      "text/html": [
       "<div>\n",
       "<style scoped>\n",
       "    .dataframe tbody tr th:only-of-type {\n",
       "        vertical-align: middle;\n",
       "    }\n",
       "\n",
       "    .dataframe tbody tr th {\n",
       "        vertical-align: top;\n",
       "    }\n",
       "\n",
       "    .dataframe thead th {\n",
       "        text-align: right;\n",
       "    }\n",
       "</style>\n",
       "<table border=\"1\" class=\"dataframe\">\n",
       "  <thead>\n",
       "    <tr style=\"text-align: right;\">\n",
       "      <th></th>\n",
       "      <th>LineageName</th>\n",
       "      <th>sc_R2_30nt</th>\n",
       "    </tr>\n",
       "    <tr>\n",
       "      <th>bulk_R1_30nt</th>\n",
       "      <th></th>\n",
       "      <th></th>\n",
       "    </tr>\n",
       "  </thead>\n",
       "  <tbody>\n",
       "    <tr>\n",
       "      <th>CACTTTAAGGTTATGGGATGCGGGTGGTAA</th>\n",
       "      <td>GENBC0200537</td>\n",
       "      <td>TTACCACCCGCATCCCATAACCTTAAAGTG</td>\n",
       "    </tr>\n",
       "    <tr>\n",
       "      <th>AAGCTGAAACGCTAGGATTAAACGTCTGGG</th>\n",
       "      <td>GENBC0200739</td>\n",
       "      <td>CCCAGACGTTTAATCCTAGCGTTTCAGCTT</td>\n",
       "    </tr>\n",
       "    <tr>\n",
       "      <th>CAACCCGGACTACATGACTACTATCTATCC</th>\n",
       "      <td>GENBC0200896</td>\n",
       "      <td>GGATAGATAGTAGTCATGTAGTCCGGGTTG</td>\n",
       "    </tr>\n",
       "    <tr>\n",
       "      <th>CTGTAGTCCCGAATGTCACAGTCAGCTTAT</th>\n",
       "      <td>GENBC0200992</td>\n",
       "      <td>ATAAGCTGACTGTGACATTCGGGACTACAG</td>\n",
       "    </tr>\n",
       "    <tr>\n",
       "      <th>CCATCTAACACTCGCCACTCAATCGGTCGT</th>\n",
       "      <td>GENBC0201132</td>\n",
       "      <td>ACGACCGATTGAGTGGCGAGTGTTAGATGG</td>\n",
       "    </tr>\n",
       "  </tbody>\n",
       "</table>\n",
       "</div>"
      ],
      "text/plain": [
       "                                 LineageName                      sc_R2_30nt\n",
       "bulk_R1_30nt                                                                \n",
       "CACTTTAAGGTTATGGGATGCGGGTGGTAA  GENBC0200537  TTACCACCCGCATCCCATAACCTTAAAGTG\n",
       "AAGCTGAAACGCTAGGATTAAACGTCTGGG  GENBC0200739  CCCAGACGTTTAATCCTAGCGTTTCAGCTT\n",
       "CAACCCGGACTACATGACTACTATCTATCC  GENBC0200896  GGATAGATAGTAGTCATGTAGTCCGGGTTG\n",
       "CTGTAGTCCCGAATGTCACAGTCAGCTTAT  GENBC0200992  ATAAGCTGACTGTGACATTCGGGACTACAG\n",
       "CCATCTAACACTCGCCACTCAATCGGTCGT  GENBC0201132  ACGACCGATTGAGTGGCGAGTGTTAGATGG"
      ]
     },
     "execution_count": 30,
     "metadata": {},
     "output_type": "execute_result"
    }
   ],
   "source": [
    "IPC298_T0_ref[0:5]"
   ]
  },
  {
   "cell_type": "code",
   "execution_count": 31,
   "metadata": {},
   "outputs": [],
   "source": [
    "IPC298_T0_ref.columns=['id','sequence']"
   ]
  },
  {
   "cell_type": "code",
   "execution_count": 32,
   "metadata": {},
   "outputs": [],
   "source": [
    "IPC298_T0_ref['name']=IPC298_T0_ref['id']\n",
    "IPC298_T0_ref['read']='R2'\n",
    "IPC298_T0_ref['pattern']='GACCTGCTCCAGCTGCACCA(BC)'\n",
    "IPC298_T0_ref['feature_type']='CRISPR Guide Capture' #My library is for the lineage barcodes, not really guide RNA, but this is just to trick Cellranger \n",
    "\n",
    "IPC298_T0_ref_reorg=IPC298_T0_ref[['id','name','read','pattern','sequence','feature_type']]"
   ]
  },
  {
   "cell_type": "code",
   "execution_count": 33,
   "metadata": {},
   "outputs": [
    {
     "data": {
      "text/html": [
       "<div>\n",
       "<style scoped>\n",
       "    .dataframe tbody tr th:only-of-type {\n",
       "        vertical-align: middle;\n",
       "    }\n",
       "\n",
       "    .dataframe tbody tr th {\n",
       "        vertical-align: top;\n",
       "    }\n",
       "\n",
       "    .dataframe thead th {\n",
       "        text-align: right;\n",
       "    }\n",
       "</style>\n",
       "<table border=\"1\" class=\"dataframe\">\n",
       "  <thead>\n",
       "    <tr style=\"text-align: right;\">\n",
       "      <th></th>\n",
       "      <th>id</th>\n",
       "      <th>name</th>\n",
       "      <th>read</th>\n",
       "      <th>pattern</th>\n",
       "      <th>sequence</th>\n",
       "      <th>feature_type</th>\n",
       "    </tr>\n",
       "    <tr>\n",
       "      <th>bulk_R1_30nt</th>\n",
       "      <th></th>\n",
       "      <th></th>\n",
       "      <th></th>\n",
       "      <th></th>\n",
       "      <th></th>\n",
       "      <th></th>\n",
       "    </tr>\n",
       "  </thead>\n",
       "  <tbody>\n",
       "    <tr>\n",
       "      <th>CACTTTAAGGTTATGGGATGCGGGTGGTAA</th>\n",
       "      <td>GENBC0200537</td>\n",
       "      <td>GENBC0200537</td>\n",
       "      <td>R2</td>\n",
       "      <td>GACCTGCTCCAGCTGCACCA(BC)</td>\n",
       "      <td>TTACCACCCGCATCCCATAACCTTAAAGTG</td>\n",
       "      <td>CRISPR Guide Capture</td>\n",
       "    </tr>\n",
       "    <tr>\n",
       "      <th>AAGCTGAAACGCTAGGATTAAACGTCTGGG</th>\n",
       "      <td>GENBC0200739</td>\n",
       "      <td>GENBC0200739</td>\n",
       "      <td>R2</td>\n",
       "      <td>GACCTGCTCCAGCTGCACCA(BC)</td>\n",
       "      <td>CCCAGACGTTTAATCCTAGCGTTTCAGCTT</td>\n",
       "      <td>CRISPR Guide Capture</td>\n",
       "    </tr>\n",
       "    <tr>\n",
       "      <th>CAACCCGGACTACATGACTACTATCTATCC</th>\n",
       "      <td>GENBC0200896</td>\n",
       "      <td>GENBC0200896</td>\n",
       "      <td>R2</td>\n",
       "      <td>GACCTGCTCCAGCTGCACCA(BC)</td>\n",
       "      <td>GGATAGATAGTAGTCATGTAGTCCGGGTTG</td>\n",
       "      <td>CRISPR Guide Capture</td>\n",
       "    </tr>\n",
       "    <tr>\n",
       "      <th>CTGTAGTCCCGAATGTCACAGTCAGCTTAT</th>\n",
       "      <td>GENBC0200992</td>\n",
       "      <td>GENBC0200992</td>\n",
       "      <td>R2</td>\n",
       "      <td>GACCTGCTCCAGCTGCACCA(BC)</td>\n",
       "      <td>ATAAGCTGACTGTGACATTCGGGACTACAG</td>\n",
       "      <td>CRISPR Guide Capture</td>\n",
       "    </tr>\n",
       "    <tr>\n",
       "      <th>CCATCTAACACTCGCCACTCAATCGGTCGT</th>\n",
       "      <td>GENBC0201132</td>\n",
       "      <td>GENBC0201132</td>\n",
       "      <td>R2</td>\n",
       "      <td>GACCTGCTCCAGCTGCACCA(BC)</td>\n",
       "      <td>ACGACCGATTGAGTGGCGAGTGTTAGATGG</td>\n",
       "      <td>CRISPR Guide Capture</td>\n",
       "    </tr>\n",
       "  </tbody>\n",
       "</table>\n",
       "</div>"
      ],
      "text/plain": [
       "                                          id          name read  \\\n",
       "bulk_R1_30nt                                                      \n",
       "CACTTTAAGGTTATGGGATGCGGGTGGTAA  GENBC0200537  GENBC0200537   R2   \n",
       "AAGCTGAAACGCTAGGATTAAACGTCTGGG  GENBC0200739  GENBC0200739   R2   \n",
       "CAACCCGGACTACATGACTACTATCTATCC  GENBC0200896  GENBC0200896   R2   \n",
       "CTGTAGTCCCGAATGTCACAGTCAGCTTAT  GENBC0200992  GENBC0200992   R2   \n",
       "CCATCTAACACTCGCCACTCAATCGGTCGT  GENBC0201132  GENBC0201132   R2   \n",
       "\n",
       "                                                 pattern  \\\n",
       "bulk_R1_30nt                                               \n",
       "CACTTTAAGGTTATGGGATGCGGGTGGTAA  GACCTGCTCCAGCTGCACCA(BC)   \n",
       "AAGCTGAAACGCTAGGATTAAACGTCTGGG  GACCTGCTCCAGCTGCACCA(BC)   \n",
       "CAACCCGGACTACATGACTACTATCTATCC  GACCTGCTCCAGCTGCACCA(BC)   \n",
       "CTGTAGTCCCGAATGTCACAGTCAGCTTAT  GACCTGCTCCAGCTGCACCA(BC)   \n",
       "CCATCTAACACTCGCCACTCAATCGGTCGT  GACCTGCTCCAGCTGCACCA(BC)   \n",
       "\n",
       "                                                      sequence  \\\n",
       "bulk_R1_30nt                                                     \n",
       "CACTTTAAGGTTATGGGATGCGGGTGGTAA  TTACCACCCGCATCCCATAACCTTAAAGTG   \n",
       "AAGCTGAAACGCTAGGATTAAACGTCTGGG  CCCAGACGTTTAATCCTAGCGTTTCAGCTT   \n",
       "CAACCCGGACTACATGACTACTATCTATCC  GGATAGATAGTAGTCATGTAGTCCGGGTTG   \n",
       "CTGTAGTCCCGAATGTCACAGTCAGCTTAT  ATAAGCTGACTGTGACATTCGGGACTACAG   \n",
       "CCATCTAACACTCGCCACTCAATCGGTCGT  ACGACCGATTGAGTGGCGAGTGTTAGATGG   \n",
       "\n",
       "                                        feature_type  \n",
       "bulk_R1_30nt                                          \n",
       "CACTTTAAGGTTATGGGATGCGGGTGGTAA  CRISPR Guide Capture  \n",
       "AAGCTGAAACGCTAGGATTAAACGTCTGGG  CRISPR Guide Capture  \n",
       "CAACCCGGACTACATGACTACTATCTATCC  CRISPR Guide Capture  \n",
       "CTGTAGTCCCGAATGTCACAGTCAGCTTAT  CRISPR Guide Capture  \n",
       "CCATCTAACACTCGCCACTCAATCGGTCGT  CRISPR Guide Capture  "
      ]
     },
     "execution_count": 33,
     "metadata": {},
     "output_type": "execute_result"
    }
   ],
   "source": [
    "IPC298_T0_ref_reorg[0:5]"
   ]
  },
  {
   "cell_type": "code",
   "execution_count": 34,
   "metadata": {},
   "outputs": [
    {
     "data": {
      "text/plain": [
       "(643, 6)"
      ]
     },
     "execution_count": 34,
     "metadata": {},
     "output_type": "execute_result"
    }
   ],
   "source": [
    "IPC298_T0_ref_reorg.shape"
   ]
  },
  {
   "cell_type": "code",
   "execution_count": 57,
   "metadata": {
    "collapsed": true
   },
   "outputs": [],
   "source": [
    "IPC298_T0_ref_reorg.to_csv(feature_ref_file,sep=',',header=True,index=False,index_label=None)"
   ]
  },
  {
   "cell_type": "code",
   "execution_count": null,
   "metadata": {
    "collapsed": true
   },
   "outputs": [],
   "source": []
  }
 ],
 "metadata": {
  "kernelspec": {
   "display_name": "Python 3 (ipykernel)",
   "language": "python",
   "name": "python3"
  },
  "language_info": {
   "codemirror_mode": {
    "name": "ipython",
    "version": 3
   },
   "file_extension": ".py",
   "mimetype": "text/x-python",
   "name": "python",
   "nbconvert_exporter": "python",
   "pygments_lexer": "ipython3",
   "version": "3.10.13"
  }
 },
 "nbformat": 4,
 "nbformat_minor": 2
}
